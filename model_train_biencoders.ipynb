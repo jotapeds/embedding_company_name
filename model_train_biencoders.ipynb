{
 "cells": [
  {
   "cell_type": "markdown",
   "id": "604b62a0",
   "metadata": {},
   "source": [
    "# Bert Bi-encoders\n",
    "## Download do bert-portugeuse"
   ]
  },
  {
   "cell_type": "code",
   "execution_count": null,
   "id": "0744e6a6",
   "metadata": {},
   "outputs": [
    {
     "data": {
      "application/vnd.jupyter.widget-view+json": {
       "model_id": "8f76c4126eb540479f13f71ffb631f9e",
       "version_major": 2,
       "version_minor": 0
      },
      "text/plain": [
       "Fetching 10 files:   0%|          | 0/10 [00:00<?, ?it/s]"
      ]
     },
     "metadata": {},
     "output_type": "display_data"
    },
    {
     "data": {
      "application/vnd.jupyter.widget-view+json": {
       "model_id": "253165763191442fbae110b66565f3ae",
       "version_major": 2,
       "version_minor": 0
      },
      "text/plain": [
       "tf_model.h5:   0%|          | 0.00/529M [00:00<?, ?B/s]"
      ]
     },
     "metadata": {},
     "output_type": "display_data"
    },
    {
     "data": {
      "application/vnd.jupyter.widget-view+json": {
       "model_id": "b7fe039643b443aeb2461ea51b4a691e",
       "version_major": 2,
       "version_minor": 0
      },
      "text/plain": [
       "README.md: 0.00B [00:00, ?B/s]"
      ]
     },
     "metadata": {},
     "output_type": "display_data"
    },
    {
     "data": {
      "application/vnd.jupyter.widget-view+json": {
       "model_id": "c6cae4edf5494e24aff90437baea6343",
       "version_major": 2,
       "version_minor": 0
      },
      "text/plain": [
       "flax_model.msgpack:   0%|          | 0.00/436M [00:00<?, ?B/s]"
      ]
     },
     "metadata": {},
     "output_type": "display_data"
    },
    {
     "data": {
      "application/vnd.jupyter.widget-view+json": {
       "model_id": "c38b5bbad31f4465a9a204f7f823157e",
       "version_major": 2,
       "version_minor": 0
      },
      "text/plain": [
       ".gitattributes:   0%|          | 0.00/391 [00:00<?, ?B/s]"
      ]
     },
     "metadata": {},
     "output_type": "display_data"
    },
    {
     "data": {
      "text/plain": [
       "'d:\\\\github-projects\\\\company_name_embendding\\\\bert-portuguese.zip'"
      ]
     },
     "execution_count": 25,
     "metadata": {},
     "output_type": "execute_result"
    }
   ],
   "source": [
    "''' \n",
    "pip install huggingface_hub\n",
    "from huggingface_hub import snapshot_download\n",
    "\n",
    "# Baixa o modelo inteiro para uma pasta local\n",
    "snapshot_download(\n",
    "    repo_id=\"neuralmind/bert-base-portuguese-cased\",\n",
    "    local_dir=\"./bert-portuguese\",\n",
    "    repo_type=\"model\"\n",
    ")\n",
    "\n",
    "# Compacta a pasta em ZIP (manual)\n",
    "import shutil\n",
    "shutil.make_archive(\"bert-portuguese\", 'zip', \"./bert-portuguese\")'''"
   ]
  },
  {
   "cell_type": "markdown",
   "id": "5f30f186",
   "metadata": {},
   "source": [
    "## Importação das bibliotecas e configuração da gpu\n",
    "foi utilizado uma gforce rtx 3070 de 8gb"
   ]
  },
  {
   "cell_type": "code",
   "execution_count": 54,
   "id": "5f91d806",
   "metadata": {},
   "outputs": [],
   "source": [
    "import pandas as pd\n",
    "import json\n",
    "import random\n",
    "from sentence_transformers import SentenceTransformer, InputExample, losses, evaluation\n",
    "from torch.utils.data import DataLoader\n",
    "from sklearn.model_selection import train_test_split\n",
    "import numpy as np\n",
    "from sklearn.metrics.pairwise import cosine_similarity\n",
    "import torch\n",
    "from tqdm import tqdm\n",
    "\n",
    "device = \"cuda\" if torch.cuda.is_available() else \"cpu\""
   ]
  },
  {
   "cell_type": "code",
   "execution_count": 55,
   "id": "b1b27dfc",
   "metadata": {},
   "outputs": [],
   "source": [
    "df = pd.read_parquet(\"train_clean.parquet\")\n",
    "\n",
    "\n",
    "with open('variacoes_palavras.json', 'r', encoding='utf-8') as f:\n",
    "    variacoes_dict = json.load(f)"
   ]
  },
  {
   "cell_type": "code",
   "execution_count": 56,
   "id": "b5b121b8",
   "metadata": {},
   "outputs": [],
   "source": [
    "df['texto_empresa'] = df['razaosocial_clean'] + ' ' + df['nome_fantasia_clean']\n",
    "empresas_unicas = df['texto_empresa'].unique().tolist()"
   ]
  },
  {
   "cell_type": "markdown",
   "id": "319fd1ac",
   "metadata": {},
   "source": [
    "## Geração de erros de consulta, pares positivos e pares negativos"
   ]
  },
  {
   "cell_type": "code",
   "execution_count": null,
   "id": "4d7f0e9e",
   "metadata": {},
   "outputs": [],
   "source": [
    "# Função para gerar variações com erros - BASEADA NA ENTRADA DO USUÁRIO\n",
    "def gerar_consulta_com_erros(texto_usuario, variacoes_dict):\n",
    "    palavras = texto_usuario.split()\n",
    "    for i in range(len(palavras)):\n",
    "        if palavras[i].lower() in variacoes_dict:\n",
    "            palavras[i] = random.choice(variacoes_dict[palavras[i].lower()])\n",
    "    return \" \".join(palavras)\n",
    "\n",
    "# 4. Gerar pares de treino (positivos e negativos)\n",
    "dados_treino = []\n",
    "\n",
    "for _, row in df.iterrows():\n",
    "    texto_empresa = row['texto_empresa']\n",
    "    consulta_usuario = row['user_input_clean']\n",
    "    \n",
    "    # Pares positivos\n",
    "    dados_treino.append({\n",
    "        'consulta': consulta_usuario,\n",
    "        'empresa': texto_empresa,\n",
    "        'label': 1.0\n",
    "    })\n",
    "    \n",
    "    # Variações com erros (positivos)\n",
    "    for _ in range(2):\n",
    "        consulta_erro = gerar_consulta_com_erros(consulta_usuario, variacoes_dict)\n",
    "        dados_treino.append({\n",
    "            'consulta': consulta_erro,\n",
    "            'empresa': texto_empresa,\n",
    "            'label': 1.0\n",
    "        })\n",
    "    \n",
    "    # Pares negativos (1 negativo para cada positivo)\n",
    "    for _ in range(3):  # 1 original + 2 variações = 3 positivos\n",
    "        empresa_aleatoria = random.choice(empresas_unicas)\n",
    "        while empresa_aleatoria == texto_empresa:\n",
    "            empresa_aleatoria = random.choice(empresas_unicas)\n",
    "        \n",
    "        dados_treino.append({\n",
    "            'consulta': consulta_usuario,\n",
    "            'empresa': empresa_aleatoria,\n",
    "            'label': 0.0\n",
    "        })\n"
   ]
  },
  {
   "cell_type": "markdown",
   "id": "4cfeee78",
   "metadata": {},
   "source": [
    "## Separação em treino e teste"
   ]
  },
  {
   "cell_type": "code",
   "execution_count": null,
   "id": "4dbfbaec",
   "metadata": {},
   "outputs": [],
   "source": [
    "# Divisão treino/validação\n",
    "train_data, val_data = train_test_split(dados_treino, test_size=0.2, random_state=42)\n",
    "\n",
    "# Preparar DataLoader - USANDO APENAS POSITIVOS PARA MultipleNegativesRankingLoss\n",
    "train_examples_positivos = [\n",
    "    InputExample(texts=[d['consulta'], d['empresa']]) \n",
    "    for d in train_data if d['label'] == 1.0\n",
    "]"
   ]
  },
  {
   "cell_type": "markdown",
   "id": "4fbce3c5",
   "metadata": {},
   "source": [
    "### Preparação dos dados de validação e criação do avaliador"
   ]
  },
  {
   "cell_type": "code",
   "execution_count": null,
   "id": "96c64df4",
   "metadata": {},
   "outputs": [
    {
     "name": "stderr",
     "output_type": "stream",
     "text": [
      "No sentence-transformers model found with name ./bert-portuguese. Creating a new one with mean pooling.\n"
     ]
    }
   ],
   "source": [
    "# Preparar validação\n",
    "val_queries = [d['consulta'] for d in val_data]\n",
    "val_empresas = [d['empresa'] for d in val_data]\n",
    "val_labels = [d['label'] for d in val_data]\n",
    "\n",
    "# Criar avaliador de similaridade\n",
    "evaluator = evaluation.EmbeddingSimilarityEvaluator(\n",
    "    val_queries, \n",
    "    val_empresas, \n",
    "    val_labels,\n",
    "    name='val'\n",
    ")\n",
    "\n",
    "# Configurar modelo e função de perda\n",
    "model = SentenceTransformer('./bert-portuguese', device=device)\n",
    "train_loader = DataLoader(train_examples_positivos, shuffle=True, batch_size=32)\n",
    "\n",
    "# Função de perda adequada para matching textual\n",
    "loss = losses.MultipleNegativesRankingLoss(model)"
   ]
  },
  {
   "cell_type": "markdown",
   "id": "f09a65a7",
   "metadata": {},
   "source": [
    "### Configuração dos melhores hiperparametros do modelo\n",
    "❗ Foi feito um early stop no step 50000 devido a falta de ganho de informação considável pelo modelo antes do final da 4 epoch"
   ]
  },
  {
   "cell_type": "code",
   "execution_count": null,
   "id": "a0827912",
   "metadata": {},
   "outputs": [
    {
     "data": {
      "application/vnd.jupyter.widget-view+json": {
       "model_id": "dc8285e50cb54816ab8227054813a5b4",
       "version_major": 2,
       "version_minor": 0
      },
      "text/plain": [
       "Computing widget examples:   0%|          | 0/1 [00:00<?, ?example/s]"
      ]
     },
     "metadata": {},
     "output_type": "display_data"
    },
    {
     "data": {
      "text/html": [
       "\n",
       "    <div>\n",
       "      \n",
       "      <progress value='55852' max='76620' style='width:300px; height:20px; vertical-align: middle;'></progress>\n",
       "      [55852/76620 10:47:48 < 4:00:53, 1.44 it/s, Epoch 2.92/4]\n",
       "    </div>\n",
       "    <table border=\"1\" class=\"dataframe\">\n",
       "  <thead>\n",
       " <tr style=\"text-align: left;\">\n",
       "      <th>Step</th>\n",
       "      <th>Training Loss</th>\n",
       "      <th>Validation Loss</th>\n",
       "      <th>Val Pearson Cosine</th>\n",
       "      <th>Val Spearman Cosine</th>\n",
       "    </tr>\n",
       "  </thead>\n",
       "  <tbody>\n",
       "    <tr>\n",
       "      <td>5000</td>\n",
       "      <td>0.379600</td>\n",
       "      <td>No log</td>\n",
       "      <td>0.900196</td>\n",
       "      <td>0.855235</td>\n",
       "    </tr>\n",
       "    <tr>\n",
       "      <td>10000</td>\n",
       "      <td>0.299600</td>\n",
       "      <td>No log</td>\n",
       "      <td>0.916842</td>\n",
       "      <td>0.859073</td>\n",
       "    </tr>\n",
       "    <tr>\n",
       "      <td>15000</td>\n",
       "      <td>0.269800</td>\n",
       "      <td>No log</td>\n",
       "      <td>0.926220</td>\n",
       "      <td>0.860344</td>\n",
       "    </tr>\n",
       "    <tr>\n",
       "      <td>19155</td>\n",
       "      <td>0.253400</td>\n",
       "      <td>No log</td>\n",
       "      <td>0.930421</td>\n",
       "      <td>0.862831</td>\n",
       "    </tr>\n",
       "    <tr>\n",
       "      <td>20000</td>\n",
       "      <td>0.242700</td>\n",
       "      <td>No log</td>\n",
       "      <td>0.931320</td>\n",
       "      <td>0.862605</td>\n",
       "    </tr>\n",
       "    <tr>\n",
       "      <td>25000</td>\n",
       "      <td>0.230600</td>\n",
       "      <td>No log</td>\n",
       "      <td>0.931286</td>\n",
       "      <td>0.862479</td>\n",
       "    </tr>\n",
       "    <tr>\n",
       "      <td>30000</td>\n",
       "      <td>0.231200</td>\n",
       "      <td>No log</td>\n",
       "      <td>0.933413</td>\n",
       "      <td>0.862891</td>\n",
       "    </tr>\n",
       "    <tr>\n",
       "      <td>35000</td>\n",
       "      <td>0.240900</td>\n",
       "      <td>No log</td>\n",
       "      <td>0.936431</td>\n",
       "      <td>0.863313</td>\n",
       "    </tr>\n",
       "    <tr>\n",
       "      <td>38310</td>\n",
       "      <td>0.221600</td>\n",
       "      <td>No log</td>\n",
       "      <td>0.937474</td>\n",
       "      <td>0.863622</td>\n",
       "    </tr>\n",
       "    <tr>\n",
       "      <td>40000</td>\n",
       "      <td>0.229000</td>\n",
       "      <td>No log</td>\n",
       "      <td>0.938166</td>\n",
       "      <td>0.864122</td>\n",
       "    </tr>\n",
       "    <tr>\n",
       "      <td>45000</td>\n",
       "      <td>0.219100</td>\n",
       "      <td>No log</td>\n",
       "      <td>0.938133</td>\n",
       "      <td>0.863936</td>\n",
       "    </tr>\n",
       "    <tr>\n",
       "      <td>50000</td>\n",
       "      <td>0.216400</td>\n",
       "      <td>No log</td>\n",
       "      <td>0.938535</td>\n",
       "      <td>0.863715</td>\n",
       "    </tr>\n",
       "    <tr>\n",
       "      <td>55000</td>\n",
       "      <td>0.224700</td>\n",
       "      <td>No log</td>\n",
       "      <td>0.940980</td>\n",
       "      <td>0.864129</td>\n",
       "    </tr>\n",
       "  </tbody>\n",
       "</table><p>"
      ],
      "text/plain": [
       "<IPython.core.display.HTML object>"
      ]
     },
     "metadata": {},
     "output_type": "display_data"
    },
    {
     "ename": "KeyboardInterrupt",
     "evalue": "",
     "output_type": "error",
     "traceback": [
      "\u001b[31m---------------------------------------------------------------------------\u001b[39m",
      "\u001b[31mKeyboardInterrupt\u001b[39m                         Traceback (most recent call last)",
      "\u001b[36mCell\u001b[39m\u001b[36m \u001b[39m\u001b[32mIn[53]\u001b[39m\u001b[32m, line 2\u001b[39m\n\u001b[32m      1\u001b[39m \u001b[38;5;66;03m# 9. Treinar modelo\u001b[39;00m\n\u001b[32m----> \u001b[39m\u001b[32m2\u001b[39m \u001b[43mmodel\u001b[49m\u001b[43m.\u001b[49m\u001b[43mfit\u001b[49m\u001b[43m(\u001b[49m\n\u001b[32m      3\u001b[39m \u001b[43m    \u001b[49m\u001b[43mtrain_objectives\u001b[49m\u001b[43m=\u001b[49m\u001b[43m[\u001b[49m\u001b[43m(\u001b[49m\u001b[43mtrain_loader\u001b[49m\u001b[43m,\u001b[49m\u001b[43m \u001b[49m\u001b[43mloss\u001b[49m\u001b[43m)\u001b[49m\u001b[43m]\u001b[49m\u001b[43m,\u001b[49m\n\u001b[32m      4\u001b[39m \u001b[43m    \u001b[49m\u001b[43mevaluator\u001b[49m\u001b[43m=\u001b[49m\u001b[43mevaluator\u001b[49m\u001b[43m,\u001b[49m\n\u001b[32m      5\u001b[39m \u001b[43m    \u001b[49m\u001b[43mepochs\u001b[49m\u001b[43m=\u001b[49m\u001b[32;43m4\u001b[39;49m\u001b[43m,\u001b[49m\u001b[43m  \u001b[49m\u001b[38;5;66;43;03m# Aumentar para melhor performance\u001b[39;49;00m\n\u001b[32m      6\u001b[39m \u001b[43m    \u001b[49m\u001b[43mevaluation_steps\u001b[49m\u001b[43m=\u001b[49m\u001b[32;43m5000\u001b[39;49m\u001b[43m,\u001b[49m\n\u001b[32m      7\u001b[39m \u001b[43m    \u001b[49m\u001b[43moutput_path\u001b[49m\u001b[43m=\u001b[49m\u001b[33;43m'\u001b[39;49m\u001b[33;43m./bert-bi-encoder\u001b[39;49m\u001b[33;43m'\u001b[39;49m\u001b[43m,\u001b[49m\n\u001b[32m      8\u001b[39m \u001b[43m    \u001b[49m\u001b[43msave_best_model\u001b[49m\u001b[43m=\u001b[49m\u001b[38;5;28;43;01mTrue\u001b[39;49;00m\u001b[43m,\u001b[49m\n\u001b[32m      9\u001b[39m \u001b[43m    \u001b[49m\u001b[43mshow_progress_bar\u001b[49m\u001b[43m=\u001b[49m\u001b[38;5;28;43;01mTrue\u001b[39;49;00m\u001b[43m,\u001b[49m\n\u001b[32m     10\u001b[39m \u001b[43m    \u001b[49m\u001b[43mwarmup_steps\u001b[49m\u001b[43m=\u001b[49m\u001b[32;43m10000\u001b[39;49m\u001b[43m,\u001b[49m\n\u001b[32m     11\u001b[39m \u001b[43m    \u001b[49m\u001b[43mcheckpoint_path\u001b[49m\u001b[43m=\u001b[49m\u001b[33;43m'\u001b[39;49m\u001b[33;43m./bert-bi-encoder-checkpoints\u001b[39;49m\u001b[33;43m'\u001b[39;49m\u001b[43m,\u001b[49m\n\u001b[32m     12\u001b[39m \u001b[43m    \u001b[49m\u001b[43mcheckpoint_save_steps\u001b[49m\u001b[43m=\u001b[49m\u001b[32;43m10000\u001b[39;49m\u001b[43m,\u001b[49m\n\u001b[32m     13\u001b[39m \u001b[43m    \u001b[49m\u001b[43mcheckpoint_save_total_limit\u001b[49m\u001b[43m=\u001b[49m\u001b[32;43m3\u001b[39;49m\n\u001b[32m     14\u001b[39m \u001b[43m)\u001b[49m\n\u001b[32m     16\u001b[39m \u001b[38;5;28mprint\u001b[39m(\u001b[33m\"\u001b[39m\u001b[33mTreinamento concluído com sucesso!\u001b[39m\u001b[33m\"\u001b[39m)\n",
      "\u001b[36mFile \u001b[39m\u001b[32md:\\github-projects\\company_name_embendding\\venv\\Lib\\site-packages\\sentence_transformers\\fit_mixin.py:408\u001b[39m, in \u001b[36mFitMixin.fit\u001b[39m\u001b[34m(self, train_objectives, evaluator, epochs, steps_per_epoch, scheduler, warmup_steps, optimizer_class, optimizer_params, weight_decay, evaluation_steps, output_path, save_best_model, max_grad_norm, use_amp, callback, show_progress_bar, checkpoint_path, checkpoint_save_steps, checkpoint_save_total_limit, resume_from_checkpoint)\u001b[39m\n\u001b[32m    405\u001b[39m         logger.warning(\u001b[33mf\u001b[39m\u001b[33m\"\u001b[39m\u001b[33mCheckpoint directory does not exist or is not a directory: \u001b[39m\u001b[38;5;132;01m{\u001b[39;00mcheckpoint_path\u001b[38;5;132;01m}\u001b[39;00m\u001b[33m\"\u001b[39m)\n\u001b[32m    406\u001b[39m         resume_from_checkpoint = \u001b[38;5;28;01mNone\u001b[39;00m\n\u001b[32m--> \u001b[39m\u001b[32m408\u001b[39m \u001b[43mtrainer\u001b[49m\u001b[43m.\u001b[49m\u001b[43mtrain\u001b[49m\u001b[43m(\u001b[49m\u001b[43mresume_from_checkpoint\u001b[49m\u001b[43m=\u001b[49m\u001b[43mresume_from_checkpoint\u001b[49m\u001b[43m)\u001b[49m\n",
      "\u001b[36mFile \u001b[39m\u001b[32md:\\github-projects\\company_name_embendding\\venv\\Lib\\site-packages\\transformers\\trainer.py:2206\u001b[39m, in \u001b[36mTrainer.train\u001b[39m\u001b[34m(self, resume_from_checkpoint, trial, ignore_keys_for_eval, **kwargs)\u001b[39m\n\u001b[32m   2204\u001b[39m         hf_hub_utils.enable_progress_bars()\n\u001b[32m   2205\u001b[39m \u001b[38;5;28;01melse\u001b[39;00m:\n\u001b[32m-> \u001b[39m\u001b[32m2206\u001b[39m     \u001b[38;5;28;01mreturn\u001b[39;00m \u001b[43minner_training_loop\u001b[49m\u001b[43m(\u001b[49m\n\u001b[32m   2207\u001b[39m \u001b[43m        \u001b[49m\u001b[43margs\u001b[49m\u001b[43m=\u001b[49m\u001b[43margs\u001b[49m\u001b[43m,\u001b[49m\n\u001b[32m   2208\u001b[39m \u001b[43m        \u001b[49m\u001b[43mresume_from_checkpoint\u001b[49m\u001b[43m=\u001b[49m\u001b[43mresume_from_checkpoint\u001b[49m\u001b[43m,\u001b[49m\n\u001b[32m   2209\u001b[39m \u001b[43m        \u001b[49m\u001b[43mtrial\u001b[49m\u001b[43m=\u001b[49m\u001b[43mtrial\u001b[49m\u001b[43m,\u001b[49m\n\u001b[32m   2210\u001b[39m \u001b[43m        \u001b[49m\u001b[43mignore_keys_for_eval\u001b[49m\u001b[43m=\u001b[49m\u001b[43mignore_keys_for_eval\u001b[49m\u001b[43m,\u001b[49m\n\u001b[32m   2211\u001b[39m \u001b[43m    \u001b[49m\u001b[43m)\u001b[49m\n",
      "\u001b[36mFile \u001b[39m\u001b[32md:\\github-projects\\company_name_embendding\\venv\\Lib\\site-packages\\transformers\\trainer.py:2548\u001b[39m, in \u001b[36mTrainer._inner_training_loop\u001b[39m\u001b[34m(self, batch_size, args, resume_from_checkpoint, trial, ignore_keys_for_eval)\u001b[39m\n\u001b[32m   2541\u001b[39m context = (\n\u001b[32m   2542\u001b[39m     functools.partial(\u001b[38;5;28mself\u001b[39m.accelerator.no_sync, model=model)\n\u001b[32m   2543\u001b[39m     \u001b[38;5;28;01mif\u001b[39;00m i != \u001b[38;5;28mlen\u001b[39m(batch_samples) - \u001b[32m1\u001b[39m\n\u001b[32m   2544\u001b[39m     \u001b[38;5;129;01mand\u001b[39;00m \u001b[38;5;28mself\u001b[39m.accelerator.distributed_type != DistributedType.DEEPSPEED\n\u001b[32m   2545\u001b[39m     \u001b[38;5;28;01melse\u001b[39;00m contextlib.nullcontext\n\u001b[32m   2546\u001b[39m )\n\u001b[32m   2547\u001b[39m \u001b[38;5;28;01mwith\u001b[39;00m context():\n\u001b[32m-> \u001b[39m\u001b[32m2548\u001b[39m     tr_loss_step = \u001b[38;5;28;43mself\u001b[39;49m\u001b[43m.\u001b[49m\u001b[43mtraining_step\u001b[49m\u001b[43m(\u001b[49m\u001b[43mmodel\u001b[49m\u001b[43m,\u001b[49m\u001b[43m \u001b[49m\u001b[43minputs\u001b[49m\u001b[43m,\u001b[49m\u001b[43m \u001b[49m\u001b[43mnum_items_in_batch\u001b[49m\u001b[43m)\u001b[49m\n\u001b[32m   2550\u001b[39m \u001b[38;5;28;01mif\u001b[39;00m (\n\u001b[32m   2551\u001b[39m     args.logging_nan_inf_filter\n\u001b[32m   2552\u001b[39m     \u001b[38;5;129;01mand\u001b[39;00m \u001b[38;5;129;01mnot\u001b[39;00m is_torch_xla_available()\n\u001b[32m   2553\u001b[39m     \u001b[38;5;129;01mand\u001b[39;00m (torch.isnan(tr_loss_step) \u001b[38;5;129;01mor\u001b[39;00m torch.isinf(tr_loss_step))\n\u001b[32m   2554\u001b[39m ):\n\u001b[32m   2555\u001b[39m     \u001b[38;5;66;03m# if loss is nan or inf simply add the average of previous logged losses\u001b[39;00m\n\u001b[32m   2556\u001b[39m     tr_loss = tr_loss + tr_loss / (\u001b[32m1\u001b[39m + \u001b[38;5;28mself\u001b[39m.state.global_step - \u001b[38;5;28mself\u001b[39m._globalstep_last_logged)\n",
      "\u001b[36mFile \u001b[39m\u001b[32md:\\github-projects\\company_name_embendding\\venv\\Lib\\site-packages\\transformers\\trainer.py:3797\u001b[39m, in \u001b[36mTrainer.training_step\u001b[39m\u001b[34m(***failed resolving arguments***)\u001b[39m\n\u001b[32m   3794\u001b[39m \u001b[38;5;28;01mif\u001b[39;00m \u001b[38;5;28mself\u001b[39m.accelerator.distributed_type == DistributedType.DEEPSPEED:\n\u001b[32m   3795\u001b[39m     kwargs[\u001b[33m\"\u001b[39m\u001b[33mscale_wrt_gas\u001b[39m\u001b[33m\"\u001b[39m] = \u001b[38;5;28;01mFalse\u001b[39;00m\n\u001b[32m-> \u001b[39m\u001b[32m3797\u001b[39m \u001b[38;5;28;43mself\u001b[39;49m\u001b[43m.\u001b[49m\u001b[43maccelerator\u001b[49m\u001b[43m.\u001b[49m\u001b[43mbackward\u001b[49m\u001b[43m(\u001b[49m\u001b[43mloss\u001b[49m\u001b[43m,\u001b[49m\u001b[43m \u001b[49m\u001b[43m*\u001b[49m\u001b[43m*\u001b[49m\u001b[43mkwargs\u001b[49m\u001b[43m)\u001b[49m\n\u001b[32m   3799\u001b[39m \u001b[38;5;28;01mreturn\u001b[39;00m loss.detach()\n",
      "\u001b[36mFile \u001b[39m\u001b[32md:\\github-projects\\company_name_embendding\\venv\\Lib\\site-packages\\accelerate\\accelerator.py:2578\u001b[39m, in \u001b[36mAccelerator.backward\u001b[39m\u001b[34m(self, loss, **kwargs)\u001b[39m\n\u001b[32m   2576\u001b[39m     \u001b[38;5;28mself\u001b[39m.lomo_backward(loss, learning_rate)\n\u001b[32m   2577\u001b[39m \u001b[38;5;28;01melse\u001b[39;00m:\n\u001b[32m-> \u001b[39m\u001b[32m2578\u001b[39m     \u001b[43mloss\u001b[49m\u001b[43m.\u001b[49m\u001b[43mbackward\u001b[49m\u001b[43m(\u001b[49m\u001b[43m*\u001b[49m\u001b[43m*\u001b[49m\u001b[43mkwargs\u001b[49m\u001b[43m)\u001b[49m\n",
      "\u001b[36mFile \u001b[39m\u001b[32md:\\github-projects\\company_name_embendding\\venv\\Lib\\site-packages\\torch\\_tensor.py:648\u001b[39m, in \u001b[36mTensor.backward\u001b[39m\u001b[34m(self, gradient, retain_graph, create_graph, inputs)\u001b[39m\n\u001b[32m    638\u001b[39m \u001b[38;5;28;01mif\u001b[39;00m has_torch_function_unary(\u001b[38;5;28mself\u001b[39m):\n\u001b[32m    639\u001b[39m     \u001b[38;5;28;01mreturn\u001b[39;00m handle_torch_function(\n\u001b[32m    640\u001b[39m         Tensor.backward,\n\u001b[32m    641\u001b[39m         (\u001b[38;5;28mself\u001b[39m,),\n\u001b[32m   (...)\u001b[39m\u001b[32m    646\u001b[39m         inputs=inputs,\n\u001b[32m    647\u001b[39m     )\n\u001b[32m--> \u001b[39m\u001b[32m648\u001b[39m \u001b[43mtorch\u001b[49m\u001b[43m.\u001b[49m\u001b[43mautograd\u001b[49m\u001b[43m.\u001b[49m\u001b[43mbackward\u001b[49m\u001b[43m(\u001b[49m\n\u001b[32m    649\u001b[39m \u001b[43m    \u001b[49m\u001b[38;5;28;43mself\u001b[39;49m\u001b[43m,\u001b[49m\u001b[43m \u001b[49m\u001b[43mgradient\u001b[49m\u001b[43m,\u001b[49m\u001b[43m \u001b[49m\u001b[43mretain_graph\u001b[49m\u001b[43m,\u001b[49m\u001b[43m \u001b[49m\u001b[43mcreate_graph\u001b[49m\u001b[43m,\u001b[49m\u001b[43m \u001b[49m\u001b[43minputs\u001b[49m\u001b[43m=\u001b[49m\u001b[43minputs\u001b[49m\n\u001b[32m    650\u001b[39m \u001b[43m\u001b[49m\u001b[43m)\u001b[49m\n",
      "\u001b[36mFile \u001b[39m\u001b[32md:\\github-projects\\company_name_embendding\\venv\\Lib\\site-packages\\torch\\autograd\\__init__.py:353\u001b[39m, in \u001b[36mbackward\u001b[39m\u001b[34m(tensors, grad_tensors, retain_graph, create_graph, grad_variables, inputs)\u001b[39m\n\u001b[32m    348\u001b[39m     retain_graph = create_graph\n\u001b[32m    350\u001b[39m \u001b[38;5;66;03m# The reason we repeat the same comment below is that\u001b[39;00m\n\u001b[32m    351\u001b[39m \u001b[38;5;66;03m# some Python versions print out the first line of a multi-line function\u001b[39;00m\n\u001b[32m    352\u001b[39m \u001b[38;5;66;03m# calls in the traceback and some print out the last line\u001b[39;00m\n\u001b[32m--> \u001b[39m\u001b[32m353\u001b[39m \u001b[43m_engine_run_backward\u001b[49m\u001b[43m(\u001b[49m\n\u001b[32m    354\u001b[39m \u001b[43m    \u001b[49m\u001b[43mtensors\u001b[49m\u001b[43m,\u001b[49m\n\u001b[32m    355\u001b[39m \u001b[43m    \u001b[49m\u001b[43mgrad_tensors_\u001b[49m\u001b[43m,\u001b[49m\n\u001b[32m    356\u001b[39m \u001b[43m    \u001b[49m\u001b[43mretain_graph\u001b[49m\u001b[43m,\u001b[49m\n\u001b[32m    357\u001b[39m \u001b[43m    \u001b[49m\u001b[43mcreate_graph\u001b[49m\u001b[43m,\u001b[49m\n\u001b[32m    358\u001b[39m \u001b[43m    \u001b[49m\u001b[43minputs\u001b[49m\u001b[43m,\u001b[49m\n\u001b[32m    359\u001b[39m \u001b[43m    \u001b[49m\u001b[43mallow_unreachable\u001b[49m\u001b[43m=\u001b[49m\u001b[38;5;28;43;01mTrue\u001b[39;49;00m\u001b[43m,\u001b[49m\n\u001b[32m    360\u001b[39m \u001b[43m    \u001b[49m\u001b[43maccumulate_grad\u001b[49m\u001b[43m=\u001b[49m\u001b[38;5;28;43;01mTrue\u001b[39;49;00m\u001b[43m,\u001b[49m\n\u001b[32m    361\u001b[39m \u001b[43m\u001b[49m\u001b[43m)\u001b[49m\n",
      "\u001b[36mFile \u001b[39m\u001b[32md:\\github-projects\\company_name_embendding\\venv\\Lib\\site-packages\\torch\\autograd\\graph.py:824\u001b[39m, in \u001b[36m_engine_run_backward\u001b[39m\u001b[34m(t_outputs, *args, **kwargs)\u001b[39m\n\u001b[32m    822\u001b[39m     unregister_hooks = _register_logging_hooks_on_whole_graph(t_outputs)\n\u001b[32m    823\u001b[39m \u001b[38;5;28;01mtry\u001b[39;00m:\n\u001b[32m--> \u001b[39m\u001b[32m824\u001b[39m     \u001b[38;5;28;01mreturn\u001b[39;00m \u001b[43mVariable\u001b[49m\u001b[43m.\u001b[49m\u001b[43m_execution_engine\u001b[49m\u001b[43m.\u001b[49m\u001b[43mrun_backward\u001b[49m\u001b[43m(\u001b[49m\u001b[43m  \u001b[49m\u001b[38;5;66;43;03m# Calls into the C++ engine to run the backward pass\u001b[39;49;00m\n\u001b[32m    825\u001b[39m \u001b[43m        \u001b[49m\u001b[43mt_outputs\u001b[49m\u001b[43m,\u001b[49m\u001b[43m \u001b[49m\u001b[43m*\u001b[49m\u001b[43margs\u001b[49m\u001b[43m,\u001b[49m\u001b[43m \u001b[49m\u001b[43m*\u001b[49m\u001b[43m*\u001b[49m\u001b[43mkwargs\u001b[49m\n\u001b[32m    826\u001b[39m \u001b[43m    \u001b[49m\u001b[43m)\u001b[49m  \u001b[38;5;66;03m# Calls into the C++ engine to run the backward pass\u001b[39;00m\n\u001b[32m    827\u001b[39m \u001b[38;5;28;01mfinally\u001b[39;00m:\n\u001b[32m    828\u001b[39m     \u001b[38;5;28;01mif\u001b[39;00m attach_logging_hooks:\n",
      "\u001b[31mKeyboardInterrupt\u001b[39m: "
     ]
    }
   ],
   "source": [
    "\n",
    "model.fit(\n",
    "    train_objectives=[(train_loader, loss)],\n",
    "    evaluator=evaluator,\n",
    "    epochs=4,  \n",
    "    evaluation_steps=5000,\n",
    "    output_path='./bert-bi-encoder',\n",
    "    save_best_model=True,\n",
    "    show_progress_bar=True,\n",
    "    warmup_steps=10000,\n",
    "    checkpoint_path='./bert-bi-encoder-checkpoints',\n",
    "    checkpoint_save_steps=10000,\n",
    "    checkpoint_save_total_limit=3\n",
    ")\n",
    "\n",
    "print(\"Treinamento concluído com sucesso!\")"
   ]
  },
  {
   "cell_type": "markdown",
   "id": "9a28fb88",
   "metadata": {},
   "source": [
    "#### Carregamento do ultimo checkpoint e salvamento do modelo "
   ]
  },
  {
   "cell_type": "code",
   "execution_count": null,
   "id": "57f4b965",
   "metadata": {},
   "outputs": [],
   "source": [
    "from sentence_transformers import SentenceTransformer\n",
    "\n",
    "model_final = SentenceTransformer('./bert-bi-encoder-checkpoints/checkpoint-50000')"
   ]
  },
  {
   "cell_type": "code",
   "execution_count": 62,
   "id": "3eae0f15",
   "metadata": {},
   "outputs": [],
   "source": [
    "model_final.save('./bert-bi-encoder')"
   ]
  },
  {
   "cell_type": "markdown",
   "id": "019069a0",
   "metadata": {},
   "source": [
    "## Training Loss vs Correlação de pearson"
   ]
  },
  {
   "cell_type": "code",
   "execution_count": 66,
   "id": "08290c71",
   "metadata": {},
   "outputs": [
    {
     "data": {
      "image/png": "[encoded data removed]",
      "text/plain": [
       "<Figure size 640x480 with 2 Axes>"
      ]
     },
     "metadata": {},
     "output_type": "display_data"
    }
   ],
   "source": [
    "import matplotlib.pyplot as plt\n",
    "steps = [5, 10, 15, 20, 25, 30, 35, 40, 45, 50, 55]  # x1000\n",
    "\n",
    "train_loss = [\n",
    "    0.3796,  # 5\n",
    "    0.2996,  # 10\n",
    "    0.2698,  # 15\n",
    "    0.2427,  # 20\n",
    "    0.2306,  # 25\n",
    "    0.2312,  # 30\n",
    "    0.2409,  # 35\n",
    "    0.2290,  # 40\n",
    "    0.2191,  # 45\n",
    "    0.2164,  # 50\n",
    "    0.2247]  # 55\n",
    "\n",
    "pearson = [\n",
    "    0.900196,  # 5\n",
    "    0.916842,  # 10\n",
    "    0.926220,  # 15\n",
    "    0.931320,  # 20\n",
    "    0.931286,  # 25\n",
    "    0.933413,  # 30\n",
    "    0.936431,  # 35\n",
    "    0.938166,  # 40\n",
    "    0.938133,  # 45\n",
    "    0.938535,  # 50\n",
    "    0.940980  # 55\n",
    "\n",
    "]\n",
    "fig, ax1 = plt.subplots()\n",
    "ax1.set_xlabel('Steps (x1000)')\n",
    "ax1.set_ylabel('Training Loss', color='tab:red')\n",
    "ax1.plot(steps, train_loss, color='tab:red')\n",
    "ax1.tick_params(axis='y', labelcolor='tab:red')\n",
    "\n",
    "ax2 = ax1.twinx()\n",
    "ax2.set_ylabel('Pearson Correlation', color='tab:blue')\n",
    "ax2.plot(steps, pearson, color='tab:blue')\n",
    "ax2.tick_params(axis='y', labelcolor='tab:blue')\n",
    "\n",
    "plt.title('Progresso do Treinamento')\n",
    "plt.show()"
   ]
  },
  {
   "cell_type": "markdown",
   "id": "5078f04f",
   "metadata": {},
   "source": [
    "## Teste do modelo no DF completo"
   ]
  },
  {
   "cell_type": "code",
   "execution_count": null,
   "id": "280b0d12",
   "metadata": {},
   "outputs": [
    {
     "name": "stdout",
     "output_type": "stream",
     "text": [
      "\n",
      "Catálogo de teste contém 9877 empresas únicas\n",
      "Gerando embeddings para as empresas do catálogo...\n"
     ]
    },
    {
     "data": {
      "application/vnd.jupyter.widget-view+json": {
       "model_id": "c0e25de81d9b46d0b7332811259d96cf",
       "version_major": 2,
       "version_minor": 0
      },
      "text/plain": [
       "Batches:   0%|          | 0/78 [00:00<?, ?it/s]"
      ]
     },
     "metadata": {},
     "output_type": "display_data"
    },
    {
     "name": "stdout",
     "output_type": "stream",
     "text": [
      "\n",
      "Iniciando avaliação do modelo...\n"
     ]
    },
    {
     "name": "stderr",
     "output_type": "stream",
     "text": [
      "100%|██████████| 153476/153476 [2:04:40<00:00, 20.52it/s]  \n"
     ]
    },
    {
     "name": "stdout",
     "output_type": "stream",
     "text": [
      "\n",
      "============================================================\n",
      "RESULTADOS FINAIS PARA 153476 EXEMPLOS DE TESTE:\n",
      "Acurácia Top-1: 0.5710 (87629/153476)\n",
      "Acurácia Top-5: 0.8404 (128978/153476)\n",
      "============================================================\n"
     ]
    }
   ],
   "source": [
    "\n",
    "# Carregar o melhor modelo salvo durante o treinamento\n",
    "model_final = SentenceTransformer('./bert-bi-encoder', device=device)\n",
    "\n",
    "# Filtrar apenas exemplos positivos do conjunto de validação\n",
    "test_data = [d for d in val_data if d['label'] == 1.0]\n",
    "\n",
    "# Criar catálogo de empresas únicas\n",
    "catalogo_empresas = list(set([d['empresa'] for d in test_data]))\n",
    "print(f\"\\nCatálogo de teste contém {len(catalogo_empresas)} empresas únicas\")\n",
    "\n",
    "# Gerar embeddings para todo o catálogo (uma única vez)\n",
    "print(\"Gerando embeddings para as empresas do catálogo...\")\n",
    "embeddings_catalogo = model_final.encode(\n",
    "    catalogo_empresas, \n",
    "    batch_size=128,\n",
    "    show_progress_bar=True,\n",
    "    convert_to_numpy=True\n",
    ")\n",
    "\n",
    "# Mapear empresa -> índice no catálogo\n",
    "empresa_to_index = {empresa: idx for idx, empresa in enumerate(catalogo_empresas)}\n",
    "\n",
    "# Inicializar contadores\n",
    "top1_correct = 0\n",
    "top5_correct = 0\n",
    "\n",
    "print(\"\\nIniciando avaliação do modelo...\")\n",
    "from tqdm import tqdm\n",
    "\n",
    "# Processar cada exemplo de teste\n",
    "for item in tqdm(test_data):\n",
    "    consulta = item['consulta']\n",
    "    empresa_correta = item['empresa']\n",
    "    \n",
    "    # Gerar embedding da consulta\n",
    "    embedding_consulta = model_final.encode(consulta)\n",
    "    \n",
    "    # Calcular similaridades com todo o catálogo\n",
    "    similaridades = cosine_similarity(\n",
    "        [embedding_consulta],\n",
    "        embeddings_catalogo\n",
    "    )[0]\n",
    "    \n",
    "    # Ordenar empresas por similaridade (decrescente)\n",
    "    indices_ordenados = np.argsort(similaridades)[::-1]\n",
    "    \n",
    "    # Verificar Top-1\n",
    "    if catalogo_empresas[indices_ordenados[0]] == empresa_correta:\n",
    "        top1_correct += 1\n",
    "        \n",
    "    # Verificar Top-5\n",
    "    top5_indices = indices_ordenados[:5]\n",
    "    top5_empresas = [catalogo_empresas[i] for i in top5_indices]\n",
    "    if empresa_correta in top5_empresas:\n",
    "        top5_correct += 1\n",
    "\n",
    "# 8. Calcular métricas finais\n",
    "total_exemplos = len(test_data)\n",
    "top1_accuracy = top1_correct / total_exemplos\n",
    "top5_accuracy = top5_correct / total_exemplos\n",
    "\n",
    "print(\"\\n\" + \"=\"*60)\n",
    "print(f\"RESULTADOS FINAIS PARA {total_exemplos} EXEMPLOS DE TESTE:\")\n",
    "print(f\"Acurácia Top-1: {top1_accuracy:.4f} ({top1_correct}/{total_exemplos})\")\n",
    "print(f\"Acurácia Top-5: {top5_accuracy:.4f} ({top5_correct}/{total_exemplos})\")\n",
    "print(\"=\"*60)"
   ]
  }
 ],
 "metadata": {
  "kernelspec": {
   "display_name": "venv",
   "language": "python",
   "name": "python3"
  },
  "language_info": {
   "codemirror_mode": {
    "name": "ipython",
    "version": 3
   },
   "file_extension": ".py",
   "mimetype": "text/x-python",
   "name": "python",
   "nbconvert_exporter": "python",
   "pygments_lexer": "ipython3",
   "version": "3.11.9"
  }
 },
 "nbformat": 4,
 "nbformat_minor": 5
}
